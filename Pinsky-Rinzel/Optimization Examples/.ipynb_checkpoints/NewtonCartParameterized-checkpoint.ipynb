{
 "cells": [
  {
   "cell_type": "markdown",
   "metadata": {},
   "source": [
    "# Newton's Cart Parameter Estimation Problem #"
   ]
  },
  {
   "cell_type": "markdown",
   "metadata": {},
   "source": [
    "## Summary ##\n",
    "This is my pyomo implementation of estimating the mass of a cart given its position at certain times and the applied force. Here we want to find the mass given an applied force $u(t) = 3 - 0.3t$ and the position at certain times."
   ]
  },
  {
   "cell_type": "markdown",
   "metadata": {},
   "source": [
    "## Problem Statement ##\n",
    "This problem can be formulated as a linear programming problem using the following model."
   ]
  },
  {
   "cell_type": "markdown",
   "metadata": {},
   "source": [
    "### Sets ###\n",
    "$t \\in [0,10]$ represents time"
   ]
  },
  {
   "cell_type": "markdown",
   "metadata": {},
   "source": [
    "### Parameters ###\n",
    "$u(t) = 3 - 0.3t$, $t \\in [0,10]$: Applied Force to Cart  \n",
    "$x_{exact}(t)$, $t \\in [0,10]$: Measured Position using cart of mass $M$ to solve model with applied force = $u(t)$"
   ]
  },
  {
   "cell_type": "markdown",
   "metadata": {},
   "source": [
    "### Variables ###\n",
    "$x(t)$ = position of cart, $t \\in [0,10]$  \n",
    "$v(t)$ = velocity of cart, $t \\in [0,10]$  \n",
    "$M$ = mass of cart (Control Variable)"
   ]
  },
  {
   "cell_type": "markdown",
   "metadata": {},
   "source": [
    "### Objective ###  \n",
    "Minimize the sum of position error squared:    \n",
    "$ \\sum_0^{10} \\! (x_{i} - xexact_{i})^2, \\quad i \\in [0,10] $"
   ]
  },
  {
   "cell_type": "markdown",
   "metadata": {},
   "source": [
    "### Constraints ###\n",
    "**Boundary Constraints**  \n",
    "$x(0) = 0$ --Initial position  \n",
    "$v(0) = 0$ --Initial velocity.  \n",
    "**System Dynamics (ODEs)**  \n",
    "$\\frac{d}{dt}x(t) = v(t), t \\in [0,10]$    \n",
    "$\\frac{d}{dt}v(t) = \\frac{u(t)}{M}, t \\in [0,10]$"
   ]
  },
  {
   "cell_type": "markdown",
   "metadata": {},
   "source": [
    "## Mathematical Formulation: ## \n",
    "Minimize  \n",
    "$$ \\sum_0^{10} \\! (x_{i} - xexact_{i})^2, \\quad i \\in [0,10] $$  \n",
    "Subject to\n",
    "$$\\frac{d}{dt}x(t) = v(t), t \\in [0,10]$$  \n",
    "$$\\frac{d}{dt}v(t) = \\frac{u(t)}{M}, t \\in [0,10]$$  \n",
    "$$M > 0$$\n",
    "$$x(0) = 0$$\n",
    "$$v(0) = 0$$ \n",
    "The unknowns are $x, v$, and $M$ ($x$ and $v$ are the states and $M$ is the control)"
   ]
  },
  {
   "cell_type": "markdown",
   "metadata": {},
   "source": [
    "## Pyomo Formulation ##\n",
    "Required imports, creating model"
   ]
  },
  {
   "cell_type": "code",
   "execution_count": 86,
   "metadata": {},
   "outputs": [],
   "source": [
    "from pyomo.environ import *\n",
    "from pyomo.dae import *\n",
    "import matplotlib.pyplot as plt\n",
    "import random\n",
    "import pprint\n",
    "infinity = float('inf')\n",
    "\n",
    "model = ConcreteModel()"
   ]
  },
  {
   "cell_type": "markdown",
   "metadata": {},
   "source": [
    "Sets, parameters, and variables (and derivative variables)."
   ]
  },
  {
   "cell_type": "code",
   "execution_count": null,
   "metadata": {},
   "outputs": [],
   "source": [
    "model.t = ContinuousSet(bounds=(0,10))\n",
    "model.mass = Var(within=PositiveReals)\n",
    "model.x = Var(model.t, within=NonNegativeReals)\n",
    "model.v = Var(model.t, within=NonNegativeReals)\n",
    "_u(t) = 3 - 0.3*t\n",
    "\n",
    "model.dxdt = DerivativeVar(model.x, wrt=model.t, within=NonNegativeReals)\n",
    "model.dvdt = DerivativeVar(model.v, wrt=model.t, within=NonNegativeReals)"
   ]
  },
  {
   "cell_type": "markdown",
   "metadata": {},
   "source": [
    "Boundary Constraints, just initial conditions (x(0) and v(0))"
   ]
  },
  {
   "cell_type": "code",
   "execution_count": null,
   "metadata": {},
   "outputs": [],
   "source": [
    "def condi(model):\n",
    "    yield model.x[0] == 0\n",
    "    yield model.v[0] == 0\n",
    "    yield ConstraintList.End\n",
    "model.cond = ConstraintList(rule = condi)"
   ]
  },
  {
   "cell_type": "markdown",
   "metadata": {},
   "source": [
    "Defining system dynamcis as constraints on the system.\n",
    "$$\\frac{d}{dt}x(t) = v(t), t \\in [0,10]$$  \n",
    "$$\\frac{d}{dt}v(t) = \\frac{u(t)}{M}, t \\in [0,10]$$  "
   ]
  },
  {
   "cell_type": "code",
   "execution_count": null,
   "metadata": {},
   "outputs": [],
   "source": [
    "def _ode1(m, t):\n",
    "    if t == 0 or t == 10:\n",
    "        return Constraint.Skip\n",
    "    return m.dxdt[t] == m.v[t]\n",
    "model.ode1 = Constraint(model.t, rule=_ode1)\n",
    "\n",
    "def _ode2(m, t):\n",
    "    if t == 0 or t == 10:\n",
    "        return Constraint.Skip\n",
    "    return m.dvdt[t] == u(t) / model.mass\n",
    "model.ode2 = Constraint(model.t, rule=_ode2)\n"
   ]
  },
  {
   "cell_type": "markdown",
   "metadata": {},
   "source": [
    "Descritizing the system using pyomo's built in descritizer"
   ]
  },
  {
   "cell_type": "code",
   "execution_count": null,
   "metadata": {},
   "outputs": [],
   "source": [
    "discretizer = TransformationFactory('dae.collocation')\n",
    "discretizer.apply_to(model,nfe=20,ncp=6,scheme='LAGRANGE-RADAU')\n",
    "#nfe = number of finite elements (how many points to evaluate between each collocation point)\n",
    "#ncp = number of collocation points\n",
    "#Lagrange-radau is method of collocation descritization (there are many methods of doing this)\n",
    "\n",
    "#Alternatively could use dae.finite_difference to discretize model"
   ]
  },
  {
   "cell_type": "markdown",
   "metadata": {},
   "source": [
    "Taking the integral of $u^2(t)$ with respect to time and defining its value as the objective function (value to minimize)"
   ]
  },
  {
   "cell_type": "code",
   "execution_count": null,
   "metadata": {},
   "outputs": [],
   "source": [
    "def _int1(m, t):\n",
    "    return m.u[t]**2\n",
    "\n",
    "model.int1 = Integral(model.t, wrt=model.t, rule=_int1)\n",
    "\n",
    "def _obj1(m):\n",
    "    return m.int1\n",
    "\n",
    "model.obj1 = Objective(rule=_obj1)\n"
   ]
  },
  {
   "cell_type": "markdown",
   "metadata": {},
   "source": [
    "Solving model using pyomo and displaying results (both graphically and numerically)"
   ]
  },
  {
   "cell_type": "code",
   "execution_count": null,
   "metadata": {},
   "outputs": [],
   "source": [
    "solver = SolverFactory('ipopt')\n",
    "results = solver.solve(model)\n",
    "\n",
    "xf = []\n",
    "vf = []\n",
    "uf = []\n",
    "tf = []\n",
    "\n",
    "for i in sorted(model.t):\n",
    "    tf.append(i)\n",
    "    xf.append(value(model.x[i]))\n",
    "    vf.append(value(model.v[i]))\n",
    "    uf.append(value(model.u[i]))\n",
    "\n",
    "plt.figure(1)\n",
    "plt.plot(tf,xf)\n",
    "plt.title('Position Results')\n",
    "plt.xlabel('Time')\n",
    "plt.ylabel('Position')\n",
    "\n",
    "plt.figure(2)\n",
    "plt.plot(tf,vf)\n",
    "plt.title('Velocity Results')\n",
    "plt.xlabel('Time')\n",
    "plt.ylabel('Velocity')\n",
    "\n",
    "plt.figure(3)\n",
    "plt.plot(tf,uf)\n",
    "plt.title('Applied Force Results')\n",
    "plt.xlabel('Time')\n",
    "plt.ylabel('Applied Force')\n",
    "\n",
    "#model.solutions.store_to(results)\n",
    "#results.write()"
   ]
  },
  {
   "cell_type": "markdown",
   "metadata": {},
   "source": [
    "Python"
   ]
  },
  {
   "cell_type": "code",
   "execution_count": 73,
   "metadata": {
    "scrolled": true
   },
   "outputs": [
    {
     "name": "stdout",
     "output_type": "stream",
     "text": [
      "Ipopt 3.12.12: \n",
      "\n",
      "******************************************************************************\n",
      "This program contains Ipopt, a library for large-scale nonlinear optimization.\n",
      " Ipopt is released as open source code under the Eclipse Public License (EPL).\n",
      "         For more information visit http://projects.coin-or.org/Ipopt\n",
      "******************************************************************************\n",
      "\n",
      "This is Ipopt version 3.12.12, running with linear solver mumps.\n",
      "NOTE: Other linear solvers might be more efficient (see Ipopt documentation).\n",
      "\n",
      "Number of nonzeros in equality constraint Jacobian...:      845\n",
      "Number of nonzeros in inequality constraint Jacobian.:        0\n",
      "Number of nonzeros in Lagrangian Hessian.............:        6\n",
      "\n",
      "Error in an AMPL evaluation. Run with \"halt_on_ampl_error yes\" to see details.\n",
      "Error evaluating Jacobian of equality constraints at user provided starting point.\n",
      "  No scaling factors for equality constraints computed!\n",
      "Total number of variables............................:      245\n",
      "                     variables with only lower bounds:        1\n",
      "                variables with lower and upper bounds:        0\n",
      "                     variables with only upper bounds:        0\n",
      "Total number of equality constraints.................:      244\n",
      "Total number of inequality constraints...............:        0\n",
      "        inequality constraints with only lower bounds:        0\n",
      "   inequality constraints with lower and upper bounds:        0\n",
      "        inequality constraints with only upper bounds:        0\n",
      "\n",
      "iter    objective    inf_pr   inf_du lg(mu)  ||d||  lg(rg) alpha_du alpha_pr  ls\n",
      "   0  1.5055863e+04 3.00e+02 1.17e+01  -1.0 0.00e+00    -  0.00e+00 0.00e+00   0\n",
      "   1  7.5699506e-05 1.48e+02 6.23e+00  -1.0 1.00e+02    -  1.00e+00 1.00e+00f  1\n",
      "   2  7.5699453e-05 7.31e+01 3.27e-01  -1.0 1.95e-02    -  6.96e-01 1.00e+00h  1\n",
      "   3  7.5701119e-05 3.58e+01 1.61e+00  -1.0 3.79e-02    -  1.00e+00 1.00e+00h  1\n",
      "   4  7.5700260e-05 1.72e+01 1.36e-01  -1.0 7.13e-02    -  7.10e-01 1.00e+00h  1\n",
      "   5  7.5727148e-05 7.91e+00 3.82e-01  -1.0 1.26e-01    -  1.00e+00 1.00e+00h  1\n",
      "   6  7.5729712e-05 3.32e+00 8.84e-02  -1.0 1.99e-01    -  8.48e-01 1.00e+00h  1\n",
      "   7  7.6016713e-05 1.15e+00 7.54e-02  -1.0 2.49e-01    -  1.00e+00 1.00e+00h  1\n",
      "   8  7.6130433e-05 2.48e-01 1.35e-02  -1.0 2.00e-01    -  1.00e+00 1.00e+00h  1\n",
      "   9  7.5742620e-05 1.76e-02 1.03e-02  -1.7 7.05e-02    -  1.00e+00 1.00e+00h  1\n",
      "iter    objective    inf_pr   inf_du lg(mu)  ||d||  lg(rg) alpha_du alpha_pr  ls\n",
      "  10  7.5699434e-05 1.02e-04 2.96e-04  -3.8 5.79e-03    -  1.00e+00 1.00e+00h  1\n",
      "  11  7.5699426e-05 3.44e-09 2.41e-08  -5.7 3.39e-05    -  1.00e+00 1.00e+00h  1\n",
      "  12  7.5699426e-05 1.58e-13 2.13e-14  -8.6 1.24e-08    -  1.00e+00 1.00e+00h  1\n",
      "\n",
      "Number of Iterations....: 12\n",
      "\n",
      "                                   (scaled)                 (unscaled)\n",
      "Objective...............:   3.7849836975850026e-05    7.5699425636283619e-05\n",
      "Dual infeasibility......:   2.1256042571901937e-14    4.2511945692659965e-14\n",
      "Constraint violation....:   1.5809575870662229e-13    1.5809575870662229e-13\n",
      "Complementarity.........:   2.5059016773354000e-09    5.0117869145995008e-09\n",
      "Overall NLP error.......:   2.5059016773354000e-09    5.0117869145995008e-09\n",
      "\n",
      "\n",
      "Number of objective function evaluations             = 13\n",
      "Number of objective gradient evaluations             = 13\n",
      "Number of equality constraint evaluations            = 13\n",
      "Number of inequality constraint evaluations          = 0\n",
      "Number of equality constraint Jacobian evaluations   = 13\n",
      "Number of inequality constraint Jacobian evaluations = 0\n",
      "Number of Lagrangian Hessian evaluations             = 12\n",
      "Total CPU secs in IPOPT (w/o function evaluations)   =      0.060\n",
      "Total CPU secs in NLP function evaluations           =      0.001\n",
      "\n",
      "EXIT: Optimal Solution Found.\n",
      "\b--- 0.240770816803 seconds ---\n",
      "0.999969073064\n",
      "0.00309269360449\n"
     ]
    },
    {
     "data": {
      "image/png": "[encoded data removed]",
      "text/plain": [
       "<Figure size 432x288 with 1 Axes>"
      ]
     },
     "metadata": {
      "needs_background": "light"
     },
     "output_type": "display_data"
    },
    {
     "data": {
      "image/png": "[encoded data removed]",
      "text/plain": [
       "<Figure size 432x288 with 1 Axes>"
      ]
     },
     "metadata": {
      "needs_background": "light"
     },
     "output_type": "display_data"
    }
   ],
   "source": [
    "from pyomo.environ import *\n",
    "from pyomo.dae import *\n",
    "import matplotlib.pyplot as plt\n",
    "import random\n",
    "infinity = float('inf')\n",
    "import time\n",
    "start_time = time.time()\n",
    "\n",
    "\n",
    "model = ConcreteModel()\n",
    "\n",
    "model.exactx = {0: 0.0, 0.077526: 0.008992010504748462, 0.322474: 0.15430798949623373, 0.5: 0.36875000000220237, 0.577526: 0.4906723076807711, 0.822474: 0.9868776923279737, 1.0: 1.4500000000084967, 1.077526: 1.6790381913962507, 1.322474: 2.5077618086280746, 1.5: 3.20625000001843, 1.577526: 3.5365896616507384, 1.822474: 4.679460338396086, 2.0: 5.600000000031541, 2.077526: 6.0258267184437635, 2.322474: 7.464473281631536, 2.5: 8.593750000047365, 2.577526: 9.109249361774864, 2.822474: 10.8253006383339, 3.0: 12.15000000006528, 3.077526: 12.74935759164337, 3.322474: 14.724442408502387, 3.5: 16.231250000084454, 3.577526: 16.908651408048435, 3.822474: 19.124398592136078, 4.0: 20.800000000103818, 4.077526: 21.549630810988912, 4.322474: 23.987669189233568, 4.5: 25.81875000012189, 4.577526: 26.634795800463305, 4.822474: 29.276754199793366, 5.0: 31.250000000137174, 5.077526: 32.12664637647012, 5.322474: 34.95415362381411, 5.5: 37.056250000148545, 5.577526: 37.987682539008354, 5.822474: 40.982367461295055, 6.0: 43.20000000015524, 6.077526: 44.18040428807721, 6.322474: 47.32389571223537, 6.5: 49.64375000015647, 6.577526: 50.66731162367592, 6.822474: 53.94123837663428, 7.0: 56.350000000151596, 7.077526: 57.41090454580392, 7.322474: 60.79689545449162, 7.5: 63.28125000014058, 7.577526: 64.37368305446122, 7.822474: 67.8533669458072, 8.0: 70.40000000012309, 8.077526: 71.5181471496474, 8.322474: 75.07315285058081, 8.5: 77.66875000009918, 8.577526: 78.80679683136273, 8.822474: 82.41875316881308, 9.0: 85.05000000006973, 9.077526: 86.20213209960808, 9.322474: 89.85266790050501, 9.5: 92.50625000003592, 9.577526: 93.66665295438479, 9.822474: 97.33739704565859, 10: 100.00000000000001}\n",
    "for ti, xi in model.exactx.iteritems():\n",
    "    randv = random.random()\n",
    "    model.exactx[ti] = xi + 0.02*(randv - 0.5)\n",
    "\n",
    "model.t = ContinuousSet(bounds=(0,10), initialize = [2.5,5,7.5])\n",
    "\n",
    "\n",
    "#added friction to make model look right\n",
    "#without friction obviously optimal solution is all force immediately \n",
    "#and then none for sustained high velocity (one big push)\n",
    "\n",
    "model.mass = Var(within=PositiveReals)\n",
    "model.x = Var(model.t)\n",
    "model.v = Var(model.t)\n",
    "def _u(t):\n",
    "    return (3 - 0.3*t)\n",
    "#model.myobj = Var(initialize=0)\n",
    "\n",
    "model.dxdt = DerivativeVar(model.x, wrt=model.t)\n",
    "model.dvdt = DerivativeVar(model.v, wrt=model.t)\n",
    "\n",
    "def _ode1(m, t):\n",
    "    if t == 100 or t == 100:\n",
    "        return Constraint.Skip\n",
    "    return m.dxdt[t] == m.v[t]\n",
    "model.ode1 = Constraint(model.t, rule=_ode1)\n",
    "\n",
    "def _ode2(m, t):\n",
    "    if t == 100 or t == 100:\n",
    "        return Constraint.Skip\n",
    "    return m.dvdt[t] == (_u(t) / model.mass)\n",
    "model.ode2 = Constraint(model.t, rule=_ode2)\n",
    "\n",
    "#def _int1(m, t):\n",
    "#    return m.u[t]**2\n",
    "\n",
    "#model.int1 = Integral(model.t, wrt=model.t, rule=_int1)\n",
    "\n",
    "#def _obj1(m):\n",
    "#    return m.int1 #+ (0.1)*sum((m.u[sorted(m.t)[i+1]] - model.u[sorted(m.t)[i]])**2 / (sorted(m.t)[i+1] - sorted(m.t)[i]) for i in range(len(sorted(m.t)) - 1))\n",
    "\n",
    "def condi(model):\n",
    "    yield model.x[0] == 0\n",
    "    yield model.v[0] == 0\n",
    "    #yield model.x[10] == 100\n",
    "    yield ConstraintList.End\n",
    "model.cond = ConstraintList(rule = condi)\n",
    "\n",
    "\n",
    "discretizer = TransformationFactory('dae.collocation')\n",
    "discretizer.apply_to(model,nfe=20,ncp=3,scheme='LAGRANGE-RADAU')\n",
    "#discretizer = TransformationFactory('dae.finite_difference')\n",
    "#discretizer.apply_to(model,nfe=10, scheme='BACKWARD')\n",
    "#_lagrange_radau_transform(model,nfe=20,ncp=5)\n",
    "\n",
    "def objfun(model):\n",
    "    myobj = 0\n",
    "    #mytot = 0\n",
    "    for ti in model.t:\n",
    "        if ti in model.exactx: \n",
    "            myobj += (model.x[ti] - model.exactx[ti])**2\n",
    "            #mytot += 1\n",
    "    return myobj\n",
    "model.obj = Objective(rule = objfun)\n",
    "\n",
    "\n",
    "#model.obj1 = Objective(rule=_obj1)\n",
    "\n",
    "solver = SolverFactory('ipopt')\n",
    "results = solver.solve(model, tee=True)\n",
    "\n",
    "print(\"--- %s seconds ---\" % (time.time() - start_time))\n",
    "model.solutions.store_to(results)\n",
    "print(value(model.mass))\n",
    "print(100*(abs(value(model.mass)-1)))\n",
    "#print(results)\n",
    "\n",
    "tf = []\n",
    "xf = []\n",
    "vf = []\n",
    "uf = []\n",
    "#errorg = []\n",
    "#errorv = 0\n",
    "\n",
    "for i in sorted(model.t):\n",
    "    tf.append(i)\n",
    "    xf.append(value(model.x[i]))\n",
    "    vf.append(value(model.v[i]))\n",
    "    #uf.append(value(model.u[i]))\n",
    "    #errorg.append(abs(value(model.u[i]) - (3 - 3*i)))\n",
    "    #errorv = errorv + abs(value(model.u[i]) - (3 - 3*i))\n",
    "\n",
    "tg = []\n",
    "xg = []\n",
    "for ti, xi in model.exactx.items():\n",
    "    tg.append(ti)\n",
    "    xg.append(xi)\n",
    "    \n",
    "plt.figure(1)\n",
    "plt.subplot(2,2,1)\n",
    "plt.plot(tg,xg,'x')\n",
    "plt.plot(tf,xf)\n",
    "plt.title('Position Results (5,5)')\n",
    "plt.xlabel('Time')\n",
    "plt.ylabel('Position')\n",
    "\n",
    "#plt.subplot(2,2,2)\n",
    "#plt.plot(tf2,xf2)\n",
    "#plt.title('Position Results (10,10)')\n",
    "#plt.xlabel('Time')\n",
    "\n",
    "#plt.subplot(2,2,3)\n",
    "#plt.plot(tf3,xf3)\n",
    "#plt.title('Position Solution x(t) = 3t^2 - 2t^3')\n",
    "#plt.xlabel('Time')\n",
    "#plt.subplots_adjust(hspace=0.75)\n",
    "\n",
    "plt.figure(2)\n",
    "plt.subplot(2,2,1)\n",
    "plt.plot(tf,vf)\n",
    "plt.title('Velocity Results (5,5)')\n",
    "plt.xlabel('Time')\n",
    "plt.ylabel('Velocity')\n",
    "\n",
    "#plt.figure(3)\n",
    "#plt.subplot(2,2,1)\n",
    "#plt.plot(tf,uf)\n",
    "#plt.title('Applied Force Results (5,5)')\n",
    "#plt.xlabel('Time')\n",
    "#plt.ylabel('Applied Force')\n",
    "\n",
    "tv = [0,\n",
    "    0.077526,\n",
    "    0.322474,\n",
    "    0.5,\n",
    "    0.577526,\n",
    "    0.822474,\n",
    "    1.0,\n",
    "    1.077526,\n",
    "    1.322474,\n",
    "    1.5,\n",
    "    1.577526,\n",
    "    1.822474,\n",
    "    2.0,\n",
    "    2.077526,\n",
    "    2.322474,\n",
    "    2.5,\n",
    "    2.577526,\n",
    "    2.822474,\n",
    "    3.0,\n",
    "    3.077526,\n",
    "    3.322474,\n",
    "    3.5,\n",
    "    3.577526,\n",
    "    3.822474,\n",
    "    4.0,\n",
    "    4.077526,\n",
    "    4.322474,\n",
    "    4.5,\n",
    "    4.577526,\n",
    "    4.822474,\n",
    "    5.0,\n",
    "    5.077526,\n",
    "    5.322474,\n",
    "    5.5,\n",
    "    5.577526,\n",
    "    5.822474,\n",
    "    6.0,\n",
    "    6.077526,\n",
    "    6.322474,\n",
    "    6.5,\n",
    "    6.577526,\n",
    "    6.822474,\n",
    "    7.0,\n",
    "    7.077526,\n",
    "    7.322474,\n",
    "    7.5,\n",
    "    7.577526,\n",
    "    7.822474,\n",
    "    8.0,\n",
    "    8.077526,\n",
    "    8.322474,\n",
    "    8.5,\n",
    "    8.577526,\n",
    "    8.822474,\n",
    "    9.0,\n",
    "    9.077526,\n",
    "    9.322474,\n",
    "    9.5,\n",
    "    9.577526,\n",
    "    9.822474,\n",
    "    10]\n"
   ]
  },
  {
   "cell_type": "code",
   "execution_count": null,
   "metadata": {},
   "outputs": [],
   "source": []
  },
  {
   "cell_type": "code",
   "execution_count": null,
   "metadata": {},
   "outputs": [],
   "source": []
  }
 ],
 "metadata": {
  "kernelspec": {
   "display_name": "Python 2",
   "language": "python",
   "name": "python2"
  },
  "language_info": {
   "codemirror_mode": {
    "name": "ipython",
    "version": 2
   },
   "file_extension": ".py",
   "mimetype": "text/x-python",
   "name": "python",
   "nbconvert_exporter": "python",
   "pygments_lexer": "ipython2",
   "version": "2.7.16"
  }
 },
 "nbformat": 4,
 "nbformat_minor": 2
}
